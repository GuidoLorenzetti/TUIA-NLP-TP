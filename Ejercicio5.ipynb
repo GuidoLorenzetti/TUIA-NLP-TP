{
 "cells": [
  {
   "cell_type": "code",
   "execution_count": 1,
   "metadata": {},
   "outputs": [],
   "source": [
    "from obtener_noticias import *\n",
    "import config"
   ]
  },
  {
   "cell_type": "code",
   "execution_count": null,
   "metadata": {},
   "outputs": [],
   "source": [
    "%run config.py"
   ]
  },
  {
   "cell_type": "markdown",
   "metadata": {},
   "source": [
    "**Importación de bibliotecas:** El bot utiliza las bibliotecas `telebot` y `aiogram` para interactuar con la API de Telegram y recibir y responder a mensajes. También se importa la función `obtener_precio_dolar` para obtener la cotización del dólar y las funciones relacionadas con la obtención y resumen de noticias.\n",
    "\n",
    "**Configuración del token de Telegram:** El bot configura su token de Telegram para autenticarse en la plataforma.\n",
    "\n",
    "**Configuración de bot y dispatcher:** Se crea una instancia del bot de Telegram y se establece el dispatcher (manejador de eventos) para gestionar los mensajes entrantes y comandos.\n",
    "\n",
    "**Creación de botones en línea:** Se crean botones en línea para permitir al usuario seleccionar categorías de noticias y resúmenes diarios.\n",
    "\n",
    "**Manejadores de comandos:** El código define varios manejadores de comandos que responden a comandos enviados por los usuarios a través de Telegram. Por ejemplo:\n",
    "\n",
    "- `/start` y `/help` proporcionan un mensaje de bienvenida y describen los comandos disponibles.\n",
    "- `/dolar` muestra la cotización del dólar del día.\n",
    "- `/resume` se utiliza para proporcionar un resumen de una noticia dada su URL.\n",
    "- `/noticias` y `/hoy` muestran las opciones de categorías de noticias y resúmenes diarios, respectivamente.\n",
    "\n",
    "**Callback Query Handler:** Maneja las selecciones de categorías de noticias y resúmenes diarios cuando el usuario hace clic en los botones en línea. Dependiendo de la selección, se recuperan y envían noticias o resúmenes relacionados.\n",
    "\n",
    "**Configuración de registro (log):** Se configura el registro de eventos para el bot.\n",
    "\n",
    "**Carga de datos:** El bot carga datos relacionados con noticias desde una fuente externa (posiblemente un archivo CSV) en un DataFrame global llamado `today_news`. Esto permite que el bot proporcione noticias y resúmenes de manera eficiente.\n",
    "\n",
    "**Inicio del bot:** Finalmente, el bot se inicia y comienza a \"escuchar\" eventos entrantes de Telegram, como mensajes y selecciones de botones en línea. El bot se ejecutará en bucle hasta que se detenga manualmente.\n"
   ]
  },
  {
   "cell_type": "markdown",
   "metadata": {},
   "source": [
    "El bot utiliza las funciones existentes en el script `obtener_noticias`, el cual está conformado de la siguiente manera:\n",
    "\n",
    "**Importación de bibliotecas:** El script importa varias bibliotecas necesarias para diversas tareas, como la obtención de datos de la web, el procesamiento de texto y la generación de resúmenes de noticias. Algunas de las bibliotecas utilizadas incluyen `requests`, `pandas`, `BeautifulSoup`, `torch` y `transformers`.\n",
    "\n",
    "**Función `scrap_page(categoria)`:** Esta función se encarga de rastrear una página web específica (en este caso, del sitio web \"infobae.com\") y extraer enlaces a noticias de una categoría particular. Utiliza la biblioteca `BeautifulSoup` para analizar el contenido HTML de la página y luego recopila los enlaces relevantes.\n",
    "\n",
    "**Función `scrap_new(response)`:** Esta función toma una respuesta HTTP como entrada y extrae el título y el texto de una noticia de la página web utilizando `BeautifulSoup`.\n",
    "\n",
    "**Función `generate_summaries(article_texts, max_length, num_beams, length_penalty, batch_size)`:** Esta función genera resúmenes de noticias a partir de textos de artículos. Utiliza el modelo pre-entrenado BART (BartForConditionalGeneration) de la biblioteca `transformers`. La función divide los textos en lotes, tokeniza y genera resúmenes por lotes y luego decodifica los resúmenes en texto legible.\n",
    "\n",
    "**Función `generate_category_summary(df, category, max_length, num_beams, length_penalty)`:** Esta función genera un resumen completo de noticias para una categoría específica a partir de un DataFrame que contiene noticias y resúmenes. Utiliza el modelo BART para generar el resumen y luego combina los resúmenes individuales en un resumen completo (originalmente se planteo obtener resúmenes de las categorías a partir de los resúmenes de cada noticias en particular, esta idea luego fue descartada debido a que los resultados obtenidos no fueron satisfactorios, finalmente el resumen de cada categoría son los resúmenes de todas las noticias en un mismo mensaje).\n",
    "\n",
    "**Función `obtener_precio_dolar()`:** Esta función obtiene la cotización del dólar del día consultando una página web (en este caso, \"infobae.com\"). Utiliza BeautifulSoup para analizar la página y extraer los precios del dólar tanto del Banco Nación como del mercado libre.\n",
    "\n",
    "**Función `load_csv()`:** Esta función carga noticias desde diferentes categorías utilizando la función `scrap_page`. Luego, procesa y genera resúmenes para las noticias y las almacena en un DataFrame de Pandas. Finalmente, guarda los datos en un archivo CSV llamado \"noticias.csv\" y devuelve el DataFrame."
   ]
  },
  {
   "cell_type": "markdown",
   "metadata": {},
   "source": [
    "Para usar el bot, luego de correr el script se debe buscar en Telegram el usuario `@infobaearg_bot` y escribirle `/start` para comenzar a interactuar con él. Los comandos programados se mostrarán en el chat, así como sus respectivas explicaciones y resultados. Es importante aclarar que el bot puede empezar a utilizarse casi instantáneamente después de correr el script, dado que la carga de datos funciona en paralelo. Sin embargo, podría dar errores si se intenta obtener los resúmenes de noticias antes de que se hayan terminado de cargar los datos."
   ]
  }
 ],
 "metadata": {
  "kernelspec": {
   "display_name": "Python 3",
   "language": "python",
   "name": "python3"
  },
  "language_info": {
   "codemirror_mode": {
    "name": "ipython",
    "version": 3
   },
   "file_extension": ".py",
   "mimetype": "text/x-python",
   "name": "python",
   "nbconvert_exporter": "python",
   "pygments_lexer": "ipython3",
   "version": "3.10.11"
  }
 },
 "nbformat": 4,
 "nbformat_minor": 2
}
