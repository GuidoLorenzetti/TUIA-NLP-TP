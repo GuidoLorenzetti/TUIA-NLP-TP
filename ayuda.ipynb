{
 "cells": [
  {
   "cell_type": "code",
   "execution_count": 5,
   "metadata": {},
   "outputs": [],
   "source": [
    "import numpy as np\n",
    "import matplotlib.pyplot as plt\n",
    "import pandas as pd\n",
    "import seaborn as sns\n",
    "import os\n",
    "import requests\n",
    "from bs4 import BeautifulSoup"
   ]
  },
  {
   "cell_type": "code",
   "execution_count": 3,
   "metadata": {},
   "outputs": [],
   "source": [
    "noticias = pd.DataFrame(columns=['id', 'url', 'categoria', 'titulo', 'texto'])\n",
    "noticias.to_csv('noticias.csv', index=False)"
   ]
  },
  {
   "cell_type": "code",
   "execution_count": 29,
   "metadata": {},
   "outputs": [
    {
     "name": "stdout",
     "output_type": "stream",
     "text": [
      "/deportes/2023/10/23/bicampeona-panamericana-y-doble-de-riesgo-en-series-de-netflix-eugenia-de-armas-la-ganadora-de-la-primera-medalla-de-oro-para-argentina-en-santiago-2023/\n",
      "/deportes/2023/10/23/arranca-la-decima-fecha-de-la-copa-de-la-liga-estudiantes-recibe-a-sarmiento-y-banfield-visita-a-velez/\n",
      "/deportes/2023/10/23/quien-es-jabes-saralegui-el-goleador-de-la-reserva-de-boca-que-debutaria-ante-racing-en-el-inedito-equipo-al-que-apostaria-jorge-almiron/\n",
      "/deportes/2023/10/23/la-respuesta-de-rodolfo-donofrio-cuando-le-preguntaron-por-quien-hinchara-en-la-final-de-la-copa-libertadores-entre-boca-y-fluminense/\n",
      "/deportes/2023/10/23/apartense-de-mi-camino-la-violenta-reaccion-de-victor-osimhen-ante-un-grupo-de-simpatizantes-del-napoli-que-reavivo-el-conflicto-con-el-club/\n",
      "/deportes/2023/10/23/el-papu-gomez-publico-un-video-de-su-entrenamiento-en-soledad-tras-la-sancion-por-doping/\n",
      "/deportes/2023/10/23/la-cruda-reflexion-de-javier-pastore-sobre-el-trato-de-los-fanaticos-del-psg-a-lionel-messi-el-efecto-mundial/\n",
      "/deportes/2023/10/23/el-romantico-regalo-de-alexis-mac-allister-para-su-novia-ailen-cova-por-su-cumpleanos-que-seas-siempre-feliz/\n",
      "/deportes/2023/10/23/el-album-de-la-boda-del-representante-christian-bragarnik-la-presencia-de-estrellas-del-futbol-un-campeon-del-mundo-y-el-baile-con-la-camiseta-de-defensa/\n",
      "/deportes/2023/10/23/la-insolita-sancion-que-recibio-nicolas-tagliafico-por-ir-a-ver-a-los-pumas-en-la-semifinal-del-mundial-de-rugby/\n",
      "/deportes/2023/10/23/el-mal-momento-que-sufre-fluminense-a-dos-semanas-de-la-final-de-la-copa-libertadores-si-juega-asi-contra-boca-se-va-a-joder/\n",
      "/deportes/2023/10/23/operaron-al-changuito-zeballos-de-la-ruptura-de-ligamentos-y-meniscos-de-rodilla-cuanto-tiempo-estara-sin-jugar-en-boca-juniors/\n",
      "/deportes/2023/10/23/sorpresa-en-la-formula-1-descalificaron-a-lewis-hamilton-y-a-charles-leclerc-del-gran-premio-de-estados-unidos/\n",
      "/deportes/2023/10/23/juegos-panamericanos-dia-6-argentina-buscara-medallas-en-natacion-esqui-acuatico-y-pentatlon-moderno/\n",
      "/deportes/2023/10/23/el-calvario-de-una-ex-jugadora-del-real-madrid-tras-ser-madre-me-senti-sola-desprotegida-y-muy-abandonada/\n",
      "/deportes/2023/10/23/escandalo-en-el-mundial-de-rugby-un-referente-de-sudafrica-podria-perderse-la-final-por-un-insulto-racista-contra-un-jugador-ingles/\n",
      "/deportes/2023/10/23/el-encanto-de-los-juegos-panamericanos-ilustres-desconocidos-junto-a-megaestrellas/\n",
      "/deportes/2023/10/23/mano-a-mano-con-agustin-canapino-tras-confirmarse-su-continuidad-en-la-indycar-no-corro-para-participar-se-puede-pelear-por-un-podio/\n",
      "/deportes/2023/10/23/el-emotivo-regreso-al-futbol-de-rodrigo-mora-tras-mas-de-cinco-anos-dos-goles-y-un-recibimiento-multitudinario-en-bariloche/\n",
      "/deportes/2023/10/22/la-encendida-defensa-del-padre-de-riquelme-a-edinson-cavani-los-boludos-lo-critican/\n",
      "/deportes/2023/10/22/la-super-oferta-que-prepara-independiente-para-carlos-tevez/\n",
      "/deportes/2023/10/21/un-ex-all-black-fue-lapidario-con-los-pumas-francia-e-irlanda-podrian-haber-dado-un-mejor-espectaculo/\n",
      "/deportes/2023/10/21/los-pumas-jugaran-ante-inglaterra-por-el-tercer-puesto-del-mundial-de-rugby/\n",
      "/deportes/2023/10/21/terminar-con-una-medalla-colgada-no-es-lo-mismo-que-terminar-sin-una-los-pumas-buscan-levantarse-tras-la-derrota-en-semifinales-del-mundial/\n",
      "/deportes/2023/10/22/el-baile-erotico-de-un-ex-futbolista-de-boca-juniors-que-desperto-polemica-en-peru/\n",
      "/deportes/2023/10/22/el-particular-elogio-de-una-ex-figura-del-manchester-city-a-carlos-tevez-no-entrenaba-para-nada/\n",
      "/deportes/2023/10/23/la-importante-decision-de-jorge-almiron-en-boca-juniors-de-cara-a-la-final-de-la-copa-libertadores/\n",
      "/deportes/2023/10/22/del-potro-publico-una-foto-del-momento-de-su-voto-y-los-hinchas-de-boca-deliraron-con-un-detalle-de-cara-a-la-final-de-la-libertadores-no-doy-mas/\n",
      "/deportes/2023/10/22/impacto-en-el-inter-miami-uno-de-los-socios-de-lionel-messi-dejara-el-club/\n",
      "/deportes/2023/10/23/el-enorme-elogio-de-lionel-messi-a-karim-benzema-en-la-antesala-de-la-entrega-del-balon-de-oro/\n",
      "/deportes/2023/10/23/la-nueva-vida-de-lionel-messi-en-miami-los-jugadores-del-inter-a-los-que-adopto-y-los-gestos-que-lo-hicieron-sentir-como-en-casa/\n",
      "/deportes/2023/10/23/terror-en-brasil-por-el-cruce-entre-fanaticos-antes-del-clasico-flamengo-vasco-da-gama-un-muerto-varios-heridos-y-mas-de-70-detenidos/\n",
      "/deportes/2023/10/23/un-futbolista-sufrio-una-perdida-auditiva-parcial-tras-la-explosion-de-un-petardo-durante-el-clasico-suspendido-en-grecia/\n",
      "/deportes/2023/10/23/dibu-martinez-mostro-la-destreza-de-su-hijo-como-arquero-en-la-intimidad-de-su-hogar/\n",
      "/deportes/2023/10/22/la-increible-anecdota-del-dia-que-don-omar-conocio-a-maradona-y-la-confesion-de-diego-que-sorprendio-al-cantante/\n",
      "/deportes/2023/10/22/el-gesto-de-los-jugadores-del-al-hilal-con-neymar-tras-la-dura-lesion-que-sufrio-la-imponente-bandera-que-mostraron-los-aficionados/\n",
      "/deportes/2023/10/22/el-nuevo-camp-nou-va-a-ser-una-locura-la-impactante-presentacion-del-estadio-del-barcelona-y-el-detalle-que-genero-polemica/\n"
     ]
    }
   ],
   "source": [
    "import requests\n",
    "from bs4 import BeautifulSoup\n",
    "\n",
    "noticias = []\n",
    "# URL de la página que deseas raspar\n",
    "url = \"https://www.infobae.com/deportes/\"\n",
    "\n",
    "# Realizar una solicitud GET a la URL\n",
    "response = requests.get(url)\n",
    "\n",
    "# Verificar si la solicitud fue exitosa (código de estado 200)\n",
    "if response.status_code == 200:\n",
    "    # Analizar el contenido HTML de la página con BeautifulSoup\n",
    "    soup = BeautifulSoup(response.text, 'html.parser')\n",
    "\n",
    "    # Encontrar todos los enlaces en la página\n",
    "    links = soup.find_all('a', href=True)\n",
    "\n",
    "    # Filtrar los enlaces que empiezan por \"deportes/\" y no están en elementos de imagen\n",
    "    deportes_links = [link['href'] for link in links if link['href'].startswith('/deportes/') and not link.find_parent('img')]\n",
    "\n",
    "    # Imprimir los enlaces\n",
    "    for link in deportes_links:\n",
    "        if link not in noticias:\n",
    "            noticias.append(link)\n",
    "else:\n",
    "    print(f\"No se pudo acceder a la página. Código de estado: {response.status_code}\")\n",
    "\n",
    "for noticia in noticias:\n",
    "    print(noticia)"
   ]
  },
  {
   "cell_type": "code",
   "execution_count": 65,
   "metadata": {},
   "outputs": [
    {
     "name": "stdout",
     "output_type": "stream",
     "text": [
      "https://www.infobae.com//economia/2023/10/23/el-ministerio-de-economia-analiza-medidas-para-frenar-la-caida-de-los-bonos-de-la-deuda/\n",
      "https://www.infobae.com//economia/2023/10/23/por-que-se-mantiene-la-presion-cambiaria-a-pesar-de-que-se-alejo-la-posibilidad-del-plan-de-dolarizacion-de-milei/\n",
      "https://www.infobae.com//economia/2023/10/23/sergio-massa-anuncio-un-nuevo-dolar-diferencial-para-todas-las-exportaciones-por-30-dias/\n",
      "https://www.infobae.com//economia/2023/10/23/luego-de-dos-dias-sin-precio-el-dolar-libre-reaparecio-en-las-pizarras-a-1050-para-la-venta/\n",
      "https://www.infobae.com//economia/2023/10/23/el-bcra-compro-casi-usd-200-millones-en-el-mercado-el-mayor-saldo-a-favor-en-dos-meses/\n",
      "https://www.infobae.com//economia/2023/10/23/cinco-reacciones-curiosas-de-los-mercados-a-los-resultados-de-las-elecciones/\n",
      "https://www.infobae.com//economia/2023/10/23/euforia-en-llegada-de-sergio-massa-a-economia-tras-el-triunfo-en-las-generales-en-noviembre-cueste-lo-que-cueste/\n",
      "https://www.infobae.com//economia/2023/10/23/massa-vs-milei-en-la-economia-las-4-claves-de-sus-propuestas-para-la-argentina/\n",
      "https://www.infobae.com//economia/2023/10/23/que-espera-wall-street-tras-las-elecciones-dudas-por-los-controles-al-dolar-y-por-el-futuro-de-los-bonos-argentinos/\n",
      "https://www.infobae.com//economia/2023/10/23/los-bonos-soberanos-argentinos-arrancaron-la-rueda-en-baja-en-el-dia-despues-de-las-elecciones/\n",
      "https://www.infobae.com//economia/networking/2023/10/20/aerolineas-argentinas-salio-al-mercado-de-capitales-y-recaudo-100-millones-de-dolares/\n",
      "https://www.infobae.com//economia/networking/2023/10/18/educacion-para-un-nuevo-manana-el-programa-de-ford-argentina-alcanzo-a-31-escuelas-rurales-remodeladas/\n",
      "https://www.infobae.com//economia/networking/2023/10/17/un-credito-del-bice-permitio-que-una-autopartista-duplique-su-produccion/\n",
      "https://www.infobae.com//economia/campo/2023/10/23/el-campo-pidio-que-massa-y-milei-expliciten-sus-propuestas-y-exigio-que-se-incentive-la-produccion/\n",
      "https://www.infobae.com//economia/2023/10/23/ypf-aumento-sus-combustibles-hasta-5-por-ciento/\n",
      "https://www.infobae.com//economia/2023/10/23/que-va-a-pasar-con-la-produccion-de-autos-y-la-venta-de-0km-y-usados-luego-de-las-elecciones-generales/\n",
      "https://www.infobae.com//economia/2023/10/23/los-economistas-preven-que-se-mantenga-la-incertidumbre-cambiaria-y-la-presion-sobre-la-inflacion-hasta-el-balotaje/\n"
     ]
    }
   ],
   "source": [
    "import requests\n",
    "from bs4 import BeautifulSoup\n",
    "\n",
    "\n",
    "def scrap_page(categoria):\n",
    "    noticias = []\n",
    "    # URL de la página que deseas raspar\n",
    "    url = f\"https://www.infobae.com/{categoria}/\"\n",
    "\n",
    "    # Realizar una solicitud GET a la URL\n",
    "    response = requests.get(url)\n",
    "\n",
    "    # Verificar si la solicitud fue exitosa (código de estado 200)\n",
    "    if response.status_code == 200:\n",
    "        # Analizar el contenido HTML de la página con BeautifulSoup\n",
    "        soup = BeautifulSoup(response.text, 'html.parser')\n",
    "\n",
    "        # Encontrar todos los enlaces en la página\n",
    "        divs = soup.find_all('div', {\"class\":'story-card-info'})\n",
    "        links = [x.find_all('a', href=True) for x in divs]\n",
    "        links1 = [item for sublist in links for item in sublist]\n",
    "        # Filtrar los enlaces que empiezan por \"{cateogoria}/\" y no están en elementos de imagen\n",
    "        url_links = [link['href'] for link in links1 if link['href'].startswith(f'/{categoria}/')]\n",
    "\n",
    "        # Imprimir los enlaces\n",
    "        for link in url_links:\n",
    "            if f\"https://www.infobae.com/{link}\" not in noticias:\n",
    "                noticias.append(f\"https://www.infobae.com/{link}\")\n",
    "    else:\n",
    "        print(f\"No se pudo acceder a la página. Código de estado: {response.status_code}\")\n",
    "\n",
    "    return noticias\n",
    "\n",
    "noticias = scrap_page('economia')\n",
    "for i in noticias:\n",
    "    print(i)"
   ]
  },
  {
   "cell_type": "code",
   "execution_count": null,
   "metadata": {},
   "outputs": [],
   "source": []
  }
 ],
 "metadata": {
  "kernelspec": {
   "display_name": "Python 3",
   "language": "python",
   "name": "python3"
  },
  "language_info": {
   "codemirror_mode": {
    "name": "ipython",
    "version": 3
   },
   "file_extension": ".py",
   "mimetype": "text/x-python",
   "name": "python",
   "nbconvert_exporter": "python",
   "pygments_lexer": "ipython3",
   "version": "3.10.11"
  }
 },
 "nbformat": 4,
 "nbformat_minor": 2
}
