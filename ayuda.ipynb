{
 "cells": [
  {
   "cell_type": "code",
   "execution_count": 5,
   "metadata": {},
   "outputs": [],
   "source": [
    "import numpy as np\n",
    "import matplotlib.pyplot as plt\n",
    "import pandas as pd\n",
    "import seaborn as sns\n",
    "import os\n",
    "import requests\n",
    "from bs4 import BeautifulSoup"
   ]
  },
  {
   "cell_type": "code",
   "execution_count": 66,
   "metadata": {},
   "outputs": [],
   "source": [
    "noticias = pd.DataFrame(columns=['url', 'categoria', 'titulo', 'texto'])\n",
    "noticias.to_csv('noticias.csv', index=False)"
   ]
  },
  {
   "cell_type": "code",
   "execution_count": 3,
   "metadata": {},
   "outputs": [
    {
     "name": "stdout",
     "output_type": "stream",
     "text": [
      "/salud/2023/10/28/iluminaran-monumentos-en-todo-el-pais-para-concientizar-sobre-el-acv-y-su-tratamiento-adecuado/\n",
      "/salud/2023/10/27/tres-senales-del-organismo-que-indican-un-consumo-excesivo-de-cafeina/\n",
      "/salud/2023/10/28/cuales-son-los-alimentos-que-no-deben-faltar-en-una-dieta-para-que-el-cabello-crezca-sano-y-fuerte/\n",
      "/salud/2023/10/23/el-secreto-de-una-vida-longeva-por-que-los-buenos-habitos-no-son-suficiente-para-vivir-100-anos/\n",
      "/salud/2023/10/29/mas-del-90-de-casos-de-acv-se-pueden-prevenir-cuales-son-las-claves-para-evitar-la-muerte-o-la-discapacidad/\n",
      "/salud/2023/10/29/por-que-algunas-personas-siempre-llegan-tarde-y-como-ser-mas-puntuales/\n",
      "/salud/2023/10/29/acv-en-menores-de-50-anos-las-razones-detras-de-este-alarmante-aumento/\n",
      "/salud/2023/10/29/dia-mundial-de-la-psoriasis-como-es-esta-enfermedad-de-caracter-inmunologico-que-afecta-a-entre-el-2-y-el-5-de-la-poblacion/\n",
      "/salud/2023/10/29/reconocer-y-prevenir-el-acv-sintomas-y-la-importancia-del-chequeo-rapido/\n",
      "/salud/2023/10/28/la-salud-de-wanda-nara-que-es-la-leucemia-el-cancer-que-se-origina-en-la-medula-osea/\n",
      "/salud/2023/10/28/de-los-primeros-sintomas-a-los-tratamientos-de-la-leucemia-4-claves-de-la-enfermedad-que-padece-wanda-nara/\n",
      "/salud/2023/10/28/habraso-de-que-se-trata-la-original-campana-que-busca-generar-conciencia-en-la-deteccion-precoz-del-acv/\n",
      "/salud/2023/10/28/dolores-de-cabeza-estomago-problemas-de-sueno-y-fatiga-cronica-que-hacer-cuando-los-ninos-somatizan-su-angustia/\n",
      "/salud/2023/10/28/cientificos-crean-en-japon-una-pastilla-para-recuperar-el-olfato-y-el-gusto-tras-su-perdida-por-covid/\n",
      "/salud/2023/10/28/que-es-la-dieta-omad-y-cual-es-su-impacto-en-la-salud-segun-los-expertos/\n"
     ]
    }
   ],
   "source": [
    "import requests\n",
    "from bs4 import BeautifulSoup\n",
    "\n",
    "noticias = []\n",
    "# URL de la página que deseas raspar\n",
    "url = \"https://www.infobae.com/salud/\"\n",
    "\n",
    "# Realizar una solicitud GET a la URL\n",
    "response = requests.get(url)\n",
    "\n",
    "# Verificar si la solicitud fue exitosa (código de estado 200)\n",
    "if response.status_code == 200:\n",
    "    # Analizar el contenido HTML de la página con BeautifulSoup\n",
    "    soup = BeautifulSoup(response.text, 'html.parser')\n",
    "\n",
    "    # Encontrar todos los enlaces en la página\n",
    "    links = soup.find_all('a', href=True)\n",
    "\n",
    "    # Filtrar los enlaces que empiezan por \"deportes/\" y no están en elementos de imagen\n",
    "    deportes_links = [link['href'] for link in links if link['href'].startswith('/salud/') and not link.find_parent('img')]\n",
    "\n",
    "    # Imprimir los enlaces\n",
    "    for link in deportes_links:\n",
    "        if link not in noticias:\n",
    "            noticias.append(link)\n",
    "else:\n",
    "    print(f\"No se pudo acceder a la página. Código de estado: {response.status_code}\")\n",
    "\n",
    "for noticia in noticias:\n",
    "    print(noticia)"
   ]
  },
  {
   "cell_type": "code",
   "execution_count": null,
   "metadata": {},
   "outputs": [],
   "source": [
    "import warnings\n",
    "\n",
    "warnings.filterwarnings('ignore')"
   ]
  },
  {
   "cell_type": "code",
   "execution_count": 26,
   "metadata": {},
   "outputs": [
    {
     "name": "stdout",
     "output_type": "stream",
     "text": [
      "https://www.infobae.com//economia/2023/10/28/el-resultado-electoral-tambien-alivio-la-presion-sobre-el-dolar-en-el-mercado-de-futuros/\n",
      "https://www.infobae.com//economia/2023/10/28/semana-financiera-todas-las-cotizacion-del-dolar-se-alejaron-de-sus-records-la-semana-despues-de-la-primera-vuelta/\n",
      "https://www.infobae.com//economia/2023/10/28/signo-de-austeridad-el-gobierno-asegura-que-buscara-moderar-el-gasto-para-acercarse-a-las-metas-fiscales/\n",
      "https://www.infobae.com//economia/2023/10/28/shock-o-gradualismo-el-dilema-recurrente-que-debera-enfrentar-el-proximo-presidente/\n",
      "https://www.infobae.com//economia/2023/10/28/interes-por-el-dolar-mep-como-aprovechar-el-tipo-de-cambio-mas-accesible-que-crece-en-epoca-de-elecciones/\n",
      "https://www.infobae.com//economia/2023/10/28/todos-los-aumentos-de-noviembre-el-proximo-mes-llegara-con-subas-en-alimentos-internet-alquileres-prepagas-y-servicio-domestico/\n",
      "https://www.infobae.com//economia/2023/10/29/massa-o-milei-la-contundente-respuesta-de-un-ex-lider-del-tesoro-de-eeuu-y-del-fmi/\n",
      "https://www.infobae.com//economia/2023/10/29/envio-de-fondos-a-las-provincias-el-calendario-electoral-agudizo-la-desigualdad-del-reparto/\n",
      "https://www.infobae.com//economia/2023/10/29/exportaciones-de-carne-vacuna-la-argentina-depende-cada-vez-mas-del-mercado-chino-que-cada-vez-paga-menos/\n",
      "https://www.infobae.com//economia/2023/10/29/alimentos-tarifas-prepagas-combustibles-que-pasara-con-los-precios-hasta-fin-de-ano/\n",
      "https://www.infobae.com//economia/2023/10/29/massa-apuesta-por-el-desdoblamiento-cambiario-y-marca-el-camino-para-lo-que-vendra-despues/\n",
      "https://www.infobae.com//economia/2023/10/29/la-actividad-industrial-pyme-cayo-64-anual-en-septiembre-fue-el-cuarto-mes-consecutivo-de-retroceso-productivo/\n",
      "https://www.infobae.com//economia/2023/10/29/massa-intimo-a-las-petroleras-si-el-martes-el-abastecimiento-de-combustibles-no-esta-resuelto-desde-el-miercoles-no-van-a-poder-exportar-un-solo-barco-mas/\n",
      "https://www.infobae.com//economia/2023/10/29/escasez-de-combustible-gobierno-petroleras-y-estacioneros-dicen-que-el-abastecimiento-se-empezo-a-normalizar-pero-siguen-las-filas-para-cargar/\n",
      "https://www.infobae.com//economia/networking/2023/10/26/changomas-presento-una-canasta-protegida-de-mas-de-100-productos-basicos/\n",
      "https://www.infobae.com//economia/networking/2023/10/26/el-programa-de-direccion-de-empresas-de-iae-business-school-fue-distinguido-como-el-mejor-de-america-del-sur/\n",
      "https://www.infobae.com//economia/networking/2023/10/26/la-camara-de-la-industria-argentina-de-software-renovo-autoridades/\n",
      "https://www.infobae.com//economia/2023/10/29/como-impactan-las-elecciones-en-el-mercado-inmobiliario/\n"
     ]
    }
   ],
   "source": [
    "import requests\n",
    "from bs4 import BeautifulSoup\n",
    "\n",
    "\n",
    "def scrap_page(categoria):\n",
    "    noticias = []\n",
    "    # URL de la página que deseas raspar\n",
    "    url = f\"https://www.infobae.com/{categoria}/\"\n",
    "\n",
    "    # Realizar una solicitud GET a la URL\n",
    "    response = requests.get(url)\n",
    "\n",
    "    # Verificar si la solicitud fue exitosa (código de estado 200)\n",
    "    if response.status_code == 200:\n",
    "        # Analizar el contenido HTML de la página con BeautifulSoup\n",
    "        soup = BeautifulSoup(response.text, 'html.parser')\n",
    "\n",
    "        # Encontrar todos los enlaces en la página\n",
    "        divs = soup.find_all('div', {\"class\":'feed-list-wrapper'})\n",
    "        links = [x.find_all('a', href=True) for x in divs]\n",
    "        links1 = [item for sublist in links for item in sublist]\n",
    "        # Filtrar los enlaces que empiezan por \"{cateogoria}/\" y no están en elementos de imagen\n",
    "        url_links = [link['href'] for link in links1 if link['href'].startswith(f'/{categoria}/')]\n",
    "\n",
    "        # Imprimir los enlaces\n",
    "        for link in url_links:\n",
    "            if f\"https://www.infobae.com/{link}\" not in noticias:\n",
    "                noticias.append(f\"https://www.infobae.com/{link}\")\n",
    "\n",
    "        # Encontrar todos los enlaces en la página\n",
    "        divs = soup.find_all('div', {\"class\":'story-card-info'})\n",
    "        links = [x.find_all('a', href=True) for x in divs]\n",
    "        links1 = [item for sublist in links for item in sublist]\n",
    "        # Filtrar los enlaces que empiezan por \"{cateogoria}/\" y no están en elementos de imagen\n",
    "        url_links = [link['href'] for link in links1 if link['href'].startswith(f'/{categoria}/')]\n",
    "\n",
    "        # Imprimir los enlaces\n",
    "        for link in url_links:\n",
    "            if f\"https://www.infobae.com/{link}\" not in noticias:\n",
    "                noticias.append(f\"https://www.infobae.com/{link}\")\n",
    "\n",
    "    else:\n",
    "        print(f\"No se pudo acceder a la página. Código de estado: {response.status_code}\")\n",
    "\n",
    "    return noticias\n",
    "\n",
    "noticias = scrap_page('economia')\n",
    "for i in noticias:\n",
    "    print(i)"
   ]
  },
  {
   "cell_type": "code",
   "execution_count": null,
   "metadata": {},
   "outputs": [],
   "source": []
  }
 ],
 "metadata": {
  "kernelspec": {
   "display_name": "Python 3",
   "language": "python",
   "name": "python3"
  },
  "language_info": {
   "codemirror_mode": {
    "name": "ipython",
    "version": 3
   },
   "file_extension": ".py",
   "mimetype": "text/x-python",
   "name": "python",
   "nbconvert_exporter": "python",
   "pygments_lexer": "ipython3",
   "version": "3.10.11"
  }
 },
 "nbformat": 4,
 "nbformat_minor": 2
}
