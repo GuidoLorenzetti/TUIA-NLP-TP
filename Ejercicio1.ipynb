{
 "cells": [
  {
   "cell_type": "markdown",
   "metadata": {},
   "source": [
    "## Construir un dataset haciendo web scraping de páginas web de su elección.\n",
    "- Definir 4 categorías de noticias/artículos.\n",
    "- Para cada categoría, extraer los siguientes datos de 10 noticias diferentes:\n",
    " - url (sitio web donde se publicó el artículo)\n",
    " - título (título del artículo) ○ texto (contenido del artículo)\n",
    "#### Recomendaciones: \n",
    "Elegir blogs para evitar los límites de lectura para los medios que exigen suscripción. Investigue sobre el archivo robots.txt y téngalo en cuenta. \n",
    "#### Considere\n",
    "también espaciar las consultas para evitar saturar el sitio.\n",
    "Utilizando los datos obtenidos construya el dataset en formato csv."
   ]
  },
  {
   "cell_type": "markdown",
   "metadata": {},
   "source": [
    "Categorias elegidas\n",
    "- Deporte\n",
    "- Economia\n",
    "- Salud\n",
    "- Inteligencia artificial\n"
   ]
  },
  {
   "cell_type": "code",
   "execution_count": 7,
   "metadata": {},
   "outputs": [],
   "source": [
    "import warnings\n",
    "\n",
    "warnings.filterwarnings(\"ignore\")"
   ]
  },
  {
   "cell_type": "code",
   "execution_count": 11,
   "metadata": {},
   "outputs": [],
   "source": [
    "import requests\n",
    "from bs4 import BeautifulSoup\n",
    "import pandas as pd\n",
    "from obtener_noticias import scrap_page\n",
    "\n",
    "df = pd.read_csv(\"./noticias.csv\", delimiter=\",\")\n",
    "\n",
    "def agregar_text_title(url, titulo, texto, categoria):\n",
    "    global df\n",
    "    # Crear una nueva fila como un diccionario\n",
    "    nueva_fila = {'url': url,'titulo': titulo, 'texto': texto, 'categoria': categoria}\n",
    "\n",
    "    # Usar el método append para agregar la nueva fila al DataFrame\n",
    "    df = pd.concat([df, pd.DataFrame([nueva_fila])], ignore_index=True)\n",
    "\n",
    "\n",
    "def title_text(url, categoria):\n",
    "    #Acá voy a tener una lista de urls, la recorro y hago esto para cada noticia\n",
    "    # URL de la página a la que deseas hacer web scraping\n",
    "    #Aca lo cargo a la fila del csv en df[\"url\"]\n",
    "\n",
    "\n",
    "    # Realiza una solicitud GET a la página\n",
    "    response = requests.get(url)\n",
    "\n",
    "    # Verifica si la solicitud fue exitosa (código 200)\n",
    "    if response.status_code == 200:\n",
    "        # Parsea el contenido HTML de la página usando BeautifulSoup\n",
    "        soup = BeautifulSoup(response.text, 'html.parser')\n",
    "\n",
    "        # Encuentra el elemento HTML que contiene el título\n",
    "        # Ajusta el selector CSS según la estructura de la página\n",
    "        title_element = soup.find('h1', class_='article-headline')\n",
    "\n",
    "        # Extrae y muestra el texto del título\n",
    "        title_text = title_element.text.strip()\n",
    "        #print(f'Título: {title_text}')\n",
    "\n",
    "        # Encuentra los elementos HTML que son párrafos\n",
    "        # En este caso, simplemente buscamos todos los elementos <p> en la página\n",
    "        paragraph_elements = soup.find_all('p', class_='paragraph')\n",
    "\n",
    "        texto = \"\"\n",
    "        # Itera a través de los elementos y muestra el texto de los párrafos\n",
    "        for paragraph_element in paragraph_elements:\n",
    "            # Extrae y muestra el texto del párrafo\n",
    "            paragraph_text = paragraph_element.text.strip()\n",
    "            texto = texto + paragraph_text\n",
    "\n",
    "        #print(texto)\n",
    "        agregar_text_title(url, title_text, texto, categoria)\n",
    "\n",
    "    else:\n",
    "        print(f'Error al obtener la página. Código de estado: {response.status_code}')\n",
    "# lista_url = ['https://www.infobae.com/economia/2023/10/23/por-que-se-mantiene-la-presion-cambiaria-a-pesar-de-que-se-alejo-la-posibilidad-del-plan-de-dolarizacion-de-milei/']\n",
    "\n",
    "categoria = [\"economia\", \"deportes\", \"salud\", \"tecno\"]\n",
    "\n",
    "for categ in categoria:\n",
    "    noticias = scrap_page(categ)\n",
    "    for url in noticias:\n",
    "        title_text(url, categ)"
   ]
  },
  {
   "cell_type": "code",
   "execution_count": 12,
   "metadata": {},
   "outputs": [
    {
     "data": {
      "text/html": [
       "<div>\n",
       "<style scoped>\n",
       "    .dataframe tbody tr th:only-of-type {\n",
       "        vertical-align: middle;\n",
       "    }\n",
       "\n",
       "    .dataframe tbody tr th {\n",
       "        vertical-align: top;\n",
       "    }\n",
       "\n",
       "    .dataframe thead th {\n",
       "        text-align: right;\n",
       "    }\n",
       "</style>\n",
       "<table border=\"1\" class=\"dataframe\">\n",
       "  <thead>\n",
       "    <tr style=\"text-align: right;\">\n",
       "      <th></th>\n",
       "      <th>url</th>\n",
       "      <th>categoria</th>\n",
       "      <th>titulo</th>\n",
       "      <th>texto</th>\n",
       "    </tr>\n",
       "  </thead>\n",
       "  <tbody>\n",
       "  </tbody>\n",
       "</table>\n",
       "</div>"
      ],
      "text/plain": [
       "Empty DataFrame\n",
       "Columns: [url, categoria, titulo, texto]\n",
       "Index: []"
      ]
     },
     "execution_count": 12,
     "metadata": {},
     "output_type": "execute_result"
    }
   ],
   "source": [
    "df.loc[df['categoria'] == 'salud']"
   ]
  },
  {
   "cell_type": "code",
   "execution_count": 10,
   "metadata": {},
   "outputs": [
    {
     "data": {
      "text/plain": [
       "['https://www.infobae.com/espana/agencias/2023/10/29/feijoo-a-esta-izquierda-constitucionalista-ya-no-la-conoce-ni-la-madre-que-la-pario/',\n",
       " 'https://www.infobae.com/espana/2023/10/29/abascal-duplica-a-feijoo-unas-100000-personas-acuden-a-la-manifestacion-contra-la-amnistia-convocada-por-vox/',\n",
       " 'https://www.infobae.com/espana/2023/10/29/bellingham-ya-mira-de-tu-a-tu-a-cristiano-ronaldo-y-di-stefano/',\n",
       " 'https://www.infobae.com/espana/2023/10/29/un-atletico-de-record-en-el-metropolitano-se-impone-por-2-1-al-alaves/',\n",
       " 'https://www.infobae.com/espana/2023/10/29/el-congreso-paga-74000-euros-en-taxis-de-diputados-en-dos-meses-de-legislatura-los-350-congresistas-podrian-gastar-mas-de-un-millon-de-euros-al-ano/',\n",
       " 'https://www.infobae.com/espana/2023/10/29/la-ruta-canaria-se-cobra-la-vida-de-una-veintena-de-personas-este-fin-de-semana-en-el-que-han-llegado-otras-700-personas-a-tenerife/',\n",
       " 'https://www.infobae.com/espana/2023/10/29/ayuso-le-entregara-la-medalla-de-oro-de-la-comunidad-de-madrid-a-la-princesa-leonor/',\n",
       " 'https://www.infobae.com/espana/2023/10/29/sobrevivir-a-los-abusos-sexuales-de-tu-padre-lo-normalice-tanto-que-pense-que-ocurria-en-todas-las-familias/',\n",
       " 'https://www.infobae.com/espana/2023/10/29/leonor-de-infanta-a-heredera-los-momentos-mas-destacados-de-su-vida/',\n",
       " 'https://www.infobae.com/espana/2023/10/29/asi-es-el-vamtac-el-blindado-fabricado-en-galicia-que-ha-salvado-la-vida-a-sus-ocupantes-en-africa/',\n",
       " 'https://www.infobae.com/espana/2023/10/29/el-impresionante-santuario-incrustado-en-mitad-de-la-montana-dentro-de-un-parque-natural/',\n",
       " 'https://www.infobae.com/espana/2023/10/29/la-pizza-del-mejor-pizzero-del-mundo-se-puede-probar-en-espana-crema-de-grana-padano-paleta-de-cerdo-y-una-masa-crujiente/',\n",
       " 'https://www.infobae.com/espana/2023/10/29/10-peliculas-y-series-de-terror-novedades-en-plataformas-para-halloween/',\n",
       " 'https://www.infobae.com/espana/2023/10/29/levadura-nutricional-el-ingrediente-sano-y-rico-en-proteinas-que-es-tipico-de-la-cocina-vegana-y-sabe-a-queso/',\n",
       " 'https://www.infobae.com/espana/2023/10/29/alcaraz-y-djokovic-entrenan-juntos-en-paris-antes-de-pelear-por-el-numero-uno/',\n",
       " 'https://www.infobae.com/espana/2023/10/29/raffaella-carra-baila-y-brilla-en-plena-gran-via-madrilena/',\n",
       " 'https://www.infobae.com/espana/2023/10/29/todo-lo-que-tienes-que-saber-de-balada-de-pajaros-cantores-y-serpientes-la-precuela-de-los-juegos-del-hambre-que-llega-a-los-cines-en-noviembre/',\n",
       " 'https://www.infobae.com/espana/2023/10/29/la-tarta-de-zanahoria-de-jordi-cruz-un-paso-a-paso-muy-sencillo-del-tercer-chef-con-mas-estrellas-michelin-de-espana/',\n",
       " 'https://www.infobae.com/espana/2023/10/29/de-su-brutal-enfado-con-un-aston-martin-a-salir-en-primera-linea-de-la-parrilla-el-fin-de-semana-de-sainz-en-mexico/',\n",
       " 'https://www.infobae.com/espana/2023/10/29/la-historica-ley-de-amnistia-de-1977-el-dilema-con-los-delitos-de-sangre-el-impulso-del-pce-y-la-abstencion-de-ap/',\n",
       " 'https://www.infobae.com/espana/2023/10/29/terelu-campos-protagonista-del-nuevo-teaser-de-netflix-tras-30-anos-en-la-tele-estoy-en-paro/',\n",
       " 'https://www.infobae.com/espana/2023/10/29/tchouameni-se-lesiona-en-el-clasico-entre-seis-y-ocho-semanas-de-baja/',\n",
       " 'https://www.infobae.com/espana/2023/10/29/carles-porta-estrena-luz-en-la-oscuridad-me-da-miedo-no-hacer-bien-mi-trabajo-pero-no-que-me-den-una-punalada/',\n",
       " 'https://www.infobae.com/espana/2023/10/27/el-unico-caso-en-el-que-el-impuesto-de-sucesiones-prescribe-y-no-hay-que-pagarlo/',\n",
       " 'https://www.infobae.com/espana/2023/10/29/estos-son-los-articulos-que-nunca-debes-llevar-en-el-equipaje-de-mano-de-un-avion/',\n",
       " 'https://www.infobae.com/espana/2023/10/29/este-es-el-periodo-minimo-de-tiempo-que-debes-cotizar-para-cobrar-la-pension-por-incapacidad-permanente/',\n",
       " 'https://www.infobae.com/espana/2023/10/29/este-es-el-motivo-por-el-que-deberias-cancelar-tu-hipoteca-en-el-registro-de-la-propiedad/',\n",
       " 'https://www.infobae.com/espana/2023/10/29/la-clausula-que-tienes-que-incluir-en-el-testamento-para-que-todos-los-herederos-puedan-pagar-los-impuestos-de-la-herencia/',\n",
       " 'https://www.infobae.com/espana/2023/10/27/las-enfermedades-que-permiten-acceder-a-la-jubilacion-con-56-anos/',\n",
       " 'https://www.infobae.com/espana/2023/10/28/sucesion-procesal-hereditaria-el-caso-en-el-que-se-heredan-los-pleitos-del-fallecido/',\n",
       " 'https://www.infobae.com/espana/2023/10/29/estas-son-las-causas-de-la-desheredacion-que-te-pueden-hacer-perder-una-herencia/',\n",
       " 'https://www.infobae.com/espana/2023/10/27/como-jurista-no-lo-entiendo-ayuso-deberia-ser-la-mas-interesada-en-saber-que-paso-en-las-residencias-durante-el-covid/',\n",
       " 'https://www.infobae.com/espana/2023/10/27/la-jura-de-felipe-vi-la-necesidad-de-protagonismo-de-felipe-gonzalez-la-decision-de-peces-barba-y-la-exigencia-de-alianza-popular/',\n",
       " 'https://www.infobae.com/espana/2023/10/27/armengol-convoca-una-junta-de-portavoces-para-la-semana-que-viene-tras-las-advertencias-del-pp/',\n",
       " 'https://www.infobae.com/espana/2023/10/29/pedro-sanchez-da-el-paso-definitivo-hacia-su-investidura-ya-estamos-en-la-recta-final/',\n",
       " 'https://www.infobae.com/espana/2023/10/27/la-policia-detiene-en-malaga-a-un-fugitivo-relacionado-con-el-atentado-yihadista-de-bruselas/',\n",
       " 'https://www.infobae.com/espana/2023/10/27/el-envenenamiento-que-destapo-la-extrana-herencia-que-escondia-una-mujer-en-su-chalet-de-madrid-cuidaba-8-walabis-de-su-difunto-marido/',\n",
       " 'https://www.infobae.com/espana/2023/10/25/la-propietaria-de-un-piso-cambia-la-cerradura-sin-permiso-del-inquilino-y-la-condenan-a-prision/',\n",
       " 'https://www.infobae.com/espana/2023/10/27/el-tribunal-superior-de-navarra-anula-el-articulo-de-la-orden-foral-de-caza-que-limitaba-el-uso-de-armas-de-los-menores/',\n",
       " 'https://www.infobae.com/espana/2023/10/27/la-economia-espanola-continua-su-avance-aunque-a-menor-ritmo-que-en-la-primera-parte-del-ano-crece-un-03-durante-el-verano/',\n",
       " 'https://www.infobae.com/espana/2023/10/27/el-atasco-de-los-fondos-europeos-retrasa-su-impacto-en-la-economia-solo-se-implementaran-13000-millones-en-2023/',\n",
       " 'https://www.infobae.com/espana/2023/10/27/garamendi-cierra-filas-con-repsol-cuando-los-impuestos-son-a-la-carta-las-empresas-tienen-derecho-a-buscar-otros-espacios/',\n",
       " 'https://www.infobae.com/espana/2023/10/27/oferta-de-empleo-en-grefusa-se-busca-catador-de-sus-snacks-con-sueldo-de-1000-euros-por-un-dia/',\n",
       " 'https://www.infobae.com/espana/2023/10/27/por-que-el-pacto-de-estado-contra-la-violencia-de-genero-funciona-pero-aumentan-los-feminicidios/',\n",
       " 'https://www.infobae.com/espana/2023/10/27/el-estudio-del-defensor-del-pueblo-denuncia-que-la-iglesia-oculto-los-abusos-de-los-religiosos-y-estima-que-el-06-de-la-poblacion-los-ha-sufrido/',\n",
       " 'https://www.infobae.com/espana/2023/10/26/las-lagunas-de-madrid-creadas-por-accidente-y-que-ahora-evitan-inundaciones-en-las-ciudades/',\n",
       " 'https://www.infobae.com/espana/2023/10/26/las-vidas-de-las-personas-intersexuales-que-no-hermafroditas-llenas-de-violencia-y-opresion-me-he-sentido-como-un-monstruo/',\n",
       " 'https://www.infobae.com/espana/2023/10/27/el-insomnio-como-consecuencia-directa-del-cambio-de-hora-va-contra-natura-lo-ideal-seria-dejar-un-horario-fijo/',\n",
       " 'https://www.infobae.com/espana/2023/10/26/semillas-de-sesamo-beneficios-y-propiedades-de-este-alimento-que-ayuda-a-reducir-el-colesterol/',\n",
       " 'https://www.infobae.com/espana/2023/10/26/la-natacion-un-deporte-que-favorece-al-cerebro-estos-son-sus-beneficios/',\n",
       " 'https://www.infobae.com/espana/2023/10/26/el-imc-la-herramienta-obsoleta-utilizada-para-saber-tu-peso-ideal-se-esta-patologizando-a-muchos-cuerpos-sin-saber-nada-sobre-su-estado-de-salud/',\n",
       " 'https://www.infobae.com/espana/2023/10/27/1000-euros-por-una-entrada-de-bad-bunny-los-seguidores-del-artista-se-quejan-de-los-altos-precios-de-su-gira-most-wanted-tour/',\n",
       " 'https://www.infobae.com/espana/2023/10/27/dragon-ball-daima-imagenes-trailer-y-en-que-hueco-cronologico-de-la-saga-encaja/',\n",
       " 'https://www.infobae.com/espana/2023/10/27/el-futuro-de-la-saga-animales-fantasticos-en-pausa-o-cancelada/',\n",
       " 'https://www.infobae.com/espana/2023/10/27/retribution-el-remake-americano-de-la-espanola-el-desconocido-con-liam-neeson-en-el-papel-de-luis-tosar/',\n",
       " 'https://www.infobae.com/espana/2023/10/29/alonso-esta-perdiendo-la-paciencia-con-aston-martin-un-expiloto-suelta-la-bomba-no-es-culpa-suya/',\n",
       " 'https://www.infobae.com/espana/2023/10/27/la-exvicepresidenta-de-la-rfef-afirma-que-rubiales-le-pidio-posponer-una-sancion-a-busquets/',\n",
       " 'https://www.infobae.com/espana/2023/10/27/jenni-hermoso-vuelve-a-la-seleccion-a-lo-grande-gol-epico-para-darle-la-victoria-a-espana-ante-italia/',\n",
       " 'https://www.infobae.com/espana/2023/10/27/marquez-desmiente-a-ducati-yo-no-he-dicho-que-vaya-a-correr-gratis/',\n",
       " 'https://www.infobae.com/espana/2023/10/28/el-clasico-de-laliga-en-directo-sigue-en-vivo-el-fc-barcelona-real-madrid/',\n",
       " 'https://www.infobae.com/espana/2023/10/27/por-que-arguinano-es-el-cocinero-mas-influyente-de-espana-segun-ferran-adria/',\n",
       " 'https://www.infobae.com/espana/2023/10/27/samantha-vallejo-nagera-habla-sobre-la-falta-de-camareros-en-hosteleria-hay-pasion-pero-pocas-ganas-de-trabajar/',\n",
       " 'https://www.infobae.com/espana/2023/10/26/el-menu-de-la-universidad-de-granada-arrasa-en-redes-tres-platos-suculentos-por-solo-350-euros/',\n",
       " 'https://www.infobae.com/espana/2023/10/27/como-hacer-castanas-en-freidora-de-aire-la-forma-mas-rapida-facil-y-limpia-de-cocinar-este-fruto-otonal/',\n",
       " 'https://www.infobae.com/espana/2023/10/27/el-impresionante-parque-nacional-que-es-unico-en-espana-tiene-mas-de-200-lagos/',\n",
       " 'https://www.infobae.com/espana/2023/10/26/estos-son-todos-los-palacios-y-casas-de-campo-de-patrimonio-nacional-que-se-pueden-visitar/',\n",
       " 'https://www.infobae.com/espana/2023/10/27/el-parador-mas-antiguo-de-espana-tiene-casi-100-anos-y-en-el-se-redacto-la-constitucion/',\n",
       " 'https://www.infobae.com/espana/2023/10/27/el-bonito-pueblo-espanol-que-es-uno-de-los-mejores-del-mundo-para-hacer-turismo-en-2024-historia-tradicion-y-arquitectura/',\n",
       " 'https://www.infobae.com/espana/2023/10/27/paula-gonu-sufre-un-accidente-a-bordo-de-un-vtc-he-saltado-a-la-carretera/',\n",
       " 'https://www.infobae.com/espana/2023/10/27/violeta-mangrinan-desvela-la-enfermedad-que-le-han-diagnosticado-tras-ser-ingresada-por-gripe-a-me-he-orinado-encima/',\n",
       " 'https://www.infobae.com/espana/2023/10/27/oscar-casas-desvela-cual-es-su-prenda-fetiche-tendre-unos-40/',\n",
       " 'https://www.infobae.com/espana/2023/10/26/no-le-gusta-la-improvisacion-y-es-selectiva-a-la-hora-de-relacionarse-lo-que-desvela-la-escritura-de-la-princesa-leonor-sobre-su-personalidad/',\n",
       " 'https://www.infobae.com/espana/2023/10/27/jesulin-habla-en-masterchef-de-las-tres-cornadas-que-sufrio-en-sus-testiculos-tengo-mis-dos-huevos/',\n",
       " 'https://www.infobae.com/espana/2023/10/26/el-desgarrador-mensaje-en-el-que-jorge-javier-vazquez-recuerda-a-mila-ximenez-no-hay-manera-de-evitar-el-dolor/',\n",
       " 'https://www.infobae.com/espana/2023/09/28/masterchef-celebrity-2023-estos-son-todos-los-concursantes-eliminados/',\n",
       " 'https://www.infobae.com/espana/2023/10/27/el-imperio-televisivo-de-ana-rosa-quintana-que-le-permite-dormir-tranquila-pese-a-los-malos-resultados-de-tardear/',\n",
       " 'https://www.infobae.com/espana/2023/10/29/aprueba-las-oposiciones-tras-tres-anos-y-pide-matrimonio-a-su-novia-he-llevado-el-anillo-por-tercer-ano-al-tribunal-supremo/',\n",
       " 'https://www.infobae.com/espana/2023/10/28/un-tiktoker-argentino-enumera-las-cosas-no-le-gustan-de-espana-no-hay-tiendas-abiertas-hasta-las-dos-de-la-manana/',\n",
       " 'https://www.infobae.com/espana/2023/10/24/este-es-el-veredicto-de-la-ocu-sobre-el-spray-antiarrugas-de-mercadona-que-triunfa-en-redes-para-planchar-sin-una-plancha/',\n",
       " 'https://www.infobae.com/espana/2023/10/26/10-libros-de-terror-que-son-novedades-para-halloween-de-stephen-king-a-grady-hendrix/']"
      ]
     },
     "execution_count": 10,
     "metadata": {},
     "output_type": "execute_result"
    }
   ],
   "source": [
    "noticias = scrap_page(\"espana\")\n",
    "noticias"
   ]
  },
  {
   "cell_type": "code",
   "execution_count": 13,
   "metadata": {},
   "outputs": [],
   "source": [
    "df.to_csv(\"archivo.csv\")"
   ]
  }
 ],
 "metadata": {
  "kernelspec": {
   "display_name": "env",
   "language": "python",
   "name": "python3"
  },
  "language_info": {
   "codemirror_mode": {
    "name": "ipython",
    "version": 3
   },
   "file_extension": ".py",
   "mimetype": "text/x-python",
   "name": "python",
   "nbconvert_exporter": "python",
   "pygments_lexer": "ipython3",
   "version": "3.11.4"
  }
 },
 "nbformat": 4,
 "nbformat_minor": 2
}
