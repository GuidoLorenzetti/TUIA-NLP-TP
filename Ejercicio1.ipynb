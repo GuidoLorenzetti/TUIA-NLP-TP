{
 "cells": [
  {
   "cell_type": "markdown",
   "metadata": {},
   "source": [
    "## Construir un dataset haciendo web scraping de páginas web de su elección.\n",
    "- Definir 4 categorías de noticias/artículos.\n",
    "- Para cada categoría, extraer los siguientes datos de 10 noticias diferentes:\n",
    " - url (sitio web donde se publicó el artículo)\n",
    " - título (título del artículo) ○ texto (contenido del artículo)\n",
    "#### Recomendaciones: \n",
    "Elegir blogs para evitar los límites de lectura para los medios que exigen suscripción. Investigue sobre el archivo robots.txt y téngalo en cuenta. \n",
    "#### Considere\n",
    "también espaciar las consultas para evitar saturar el sitio.\n",
    "Utilizando los datos obtenidos construya el dataset en formato csv."
   ]
  },
  {
   "cell_type": "markdown",
   "metadata": {},
   "source": [
    "Categorias elegidas\n",
    "- Deporte\n",
    "- Economia\n",
    "- Salud\n",
    "- Inteligencia artificial\n"
   ]
  },
  {
   "cell_type": "code",
   "execution_count": null,
   "metadata": {},
   "outputs": [],
   "source": []
  }
 ],
 "metadata": {
  "language_info": {
   "name": "python"
  }
 },
 "nbformat": 4,
 "nbformat_minor": 2
}
